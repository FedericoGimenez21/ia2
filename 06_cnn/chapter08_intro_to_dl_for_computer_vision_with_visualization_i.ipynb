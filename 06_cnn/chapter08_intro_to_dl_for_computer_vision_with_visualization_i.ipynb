{
  "cells": [
    {
      "cell_type": "markdown",
      "metadata": {
        "id": "XdZs-t1wyfv9"
      },
      "source": [
        "This is a companion notebook for the book [Deep Learning with Python, Second Edition](https://www.manning.com/books/deep-learning-with-python-second-edition?a_aid=keras&a_bid=76564dff). For readability, it only contains runnable code blocks and section titles, and omits everything else in the book: text paragraphs, figures, and pseudocode.\n",
        "\n",
        "**If you want to be able to follow what's going on, I recommend reading the notebook side by side with your copy of the book.**\n",
        "\n",
        "This notebook was generated for TensorFlow 2.6."
      ]
    },
    {
      "cell_type": "markdown",
      "metadata": {
        "id": "l00V5jPXyfwA"
      },
      "source": [
        "# Introduction to deep learning for computer vision"
      ]
    },
    {
      "cell_type": "markdown",
      "metadata": {
        "id": "7TduE6MryfwA"
      },
      "source": [
        "## Introduction to convnets"
      ]
    },
    {
      "cell_type": "markdown",
      "metadata": {
        "id": "k-yt22TsyfwB"
      },
      "source": [
        "**Instantiating a small convnet**"
      ]
    },
    {
      "cell_type": "code",
      "execution_count": null,
      "metadata": {
        "id": "hgLVaD1xyfwB"
      },
      "outputs": [],
      "source": [
        "from tensorflow import keras\n",
        "from tensorflow.keras import layers\n",
        "inputs = keras.Input(shape=(28, 28, 1))\n",
        "x = layers.Conv2D(filters=32, kernel_size=3, activation=\"relu\")(inputs)\n",
        "x = layers.MaxPooling2D(pool_size=2)(x)\n",
        "x = layers.Conv2D(filters=64, kernel_size=3, activation=\"relu\")(x)\n",
        "x = layers.MaxPooling2D(pool_size=2)(x)\n",
        "x = layers.Conv2D(filters=128, kernel_size=3, activation=\"relu\")(x)\n",
        "x = layers.Flatten()(x)\n",
        "outputs = layers.Dense(10, activation=\"softmax\")(x)\n",
        "model = keras.Model(inputs=inputs, outputs=outputs)"
      ]
    },
    {
      "cell_type": "markdown",
      "metadata": {
        "id": "tb7mZC7dyfwC"
      },
      "source": [
        "**Displaying the model's summary**"
      ]
    },
    {
      "cell_type": "code",
      "execution_count": null,
      "metadata": {
        "id": "gw58f2x4yfwC",
        "colab": {
          "base_uri": "https://localhost:8080/"
        },
        "outputId": "556b06b6-73a0-4270-ab68-1417dacae0a9"
      },
      "outputs": [
        {
          "output_type": "stream",
          "name": "stdout",
          "text": [
            "Model: \"model\"\n",
            "_________________________________________________________________\n",
            " Layer (type)                Output Shape              Param #   \n",
            "=================================================================\n",
            " input_1 (InputLayer)        [(None, 28, 28, 1)]       0         \n",
            "                                                                 \n",
            " conv2d (Conv2D)             (None, 26, 26, 32)        320       \n",
            "                                                                 \n",
            " max_pooling2d (MaxPooling2  (None, 13, 13, 32)        0         \n",
            " D)                                                              \n",
            "                                                                 \n",
            " conv2d_1 (Conv2D)           (None, 11, 11, 64)        18496     \n",
            "                                                                 \n",
            " max_pooling2d_1 (MaxPoolin  (None, 5, 5, 64)          0         \n",
            " g2D)                                                            \n",
            "                                                                 \n",
            " conv2d_2 (Conv2D)           (None, 3, 3, 128)         73856     \n",
            "                                                                 \n",
            " flatten (Flatten)           (None, 1152)              0         \n",
            "                                                                 \n",
            " dense (Dense)               (None, 10)                11530     \n",
            "                                                                 \n",
            "=================================================================\n",
            "Total params: 104202 (407.04 KB)\n",
            "Trainable params: 104202 (407.04 KB)\n",
            "Non-trainable params: 0 (0.00 Byte)\n",
            "_________________________________________________________________\n"
          ]
        }
      ],
      "source": [
        "model.summary()"
      ]
    },
    {
      "cell_type": "markdown",
      "metadata": {
        "id": "j5gsjy08yfwD"
      },
      "source": [
        "**Training the convnet on MNIST images**"
      ]
    },
    {
      "cell_type": "code",
      "execution_count": null,
      "metadata": {
        "id": "QPTPVG1IyfwD",
        "colab": {
          "base_uri": "https://localhost:8080/"
        },
        "outputId": "a8801a2a-f57b-4776-85a1-a94ccf0b14ac"
      },
      "outputs": [
        {
          "output_type": "stream",
          "name": "stdout",
          "text": [
            "Downloading data from https://storage.googleapis.com/tensorflow/tf-keras-datasets/mnist.npz\n",
            "11490434/11490434 [==============================] - 2s 0us/step\n",
            "Epoch 1/5\n",
            "938/938 [==============================] - 30s 11ms/step - loss: 0.1620 - accuracy: 0.9497\n",
            "Epoch 2/5\n",
            "938/938 [==============================] - 8s 8ms/step - loss: 0.0447 - accuracy: 0.9863\n",
            "Epoch 3/5\n",
            "938/938 [==============================] - 8s 8ms/step - loss: 0.0311 - accuracy: 0.9906\n",
            "Epoch 4/5\n",
            "938/938 [==============================] - 4s 5ms/step - loss: 0.0242 - accuracy: 0.9924\n",
            "Epoch 5/5\n",
            "938/938 [==============================] - 4s 5ms/step - loss: 0.0186 - accuracy: 0.9943\n"
          ]
        },
        {
          "output_type": "execute_result",
          "data": {
            "text/plain": [
              "<keras.src.callbacks.History at 0x795135f38f10>"
            ]
          },
          "metadata": {},
          "execution_count": 3
        }
      ],
      "source": [
        "from tensorflow.keras.datasets import mnist\n",
        "\n",
        "(train_images, train_labels), (test_images, test_labels) = mnist.load_data()\n",
        "train_images = train_images.reshape((60000, 28, 28, 1))\n",
        "train_images = train_images.astype(\"float32\") / 255\n",
        "test_images = test_images.reshape((10000, 28, 28, 1))\n",
        "test_images = test_images.astype(\"float32\") / 255\n",
        "model.compile(optimizer=\"rmsprop\",\n",
        "    loss=\"sparse_categorical_crossentropy\",\n",
        "    metrics=[\"accuracy\"])\n",
        "model.fit(train_images, train_labels, epochs=5, batch_size=64)"
      ]
    },
    {
      "cell_type": "code",
      "source": [
        "import matplotlib.pyplot as plt\n",
        "import tensorflow as tf\n",
        "import numpy as np"
      ],
      "metadata": {
        "id": "cFHImjbxzmRO"
      },
      "execution_count": null,
      "outputs": []
    },
    {
      "cell_type": "markdown",
      "source": [
        "### Visualizacion kernel de primer CNN"
      ],
      "metadata": {
        "id": "eoRnLl_MznSr"
      }
    },
    {
      "cell_type": "code",
      "source": [
        "# Obtenemos los pesos de la capa convolucional que deseas visualizar (por ejemplo, la primera capa convolucional)\n",
        "conv_layer = model.layers[1]  # Cambia el índice según sea necesario\n",
        "weights, biases = conv_layer.get_weights()\n",
        "\n",
        "# Visualiza los kernels\n",
        "plt.figure(figsize=(10, 10))\n",
        "for i in range(weights.shape[3]):\n",
        "    plt.subplot(8, 8, i + 1)\n",
        "    plt.imshow(weights[:, :, 0, i], cmap='viridis')\n",
        "    plt.axis('off')\n",
        "plt.show()\n",
        "\n",
        "#un color oscuro indica un valor cercano a -1 mientras que el color amarillo es cercano a 1"
      ],
      "metadata": {
        "colab": {
          "base_uri": "https://localhost:8080/",
          "height": 413
        },
        "id": "Zxq9naT0zOSk",
        "outputId": "ca54891f-47ea-4adc-d968-f274ec7cea21"
      },
      "execution_count": null,
      "outputs": [
        {
          "output_type": "display_data",
          "data": {
            "text/plain": [
              "<Figure size 1000x1000 with 32 Axes>"
            ],
            "image/png": "[encoded data removed]"
          },
          "metadata": {}
        }
      ]
    },
    {
      "cell_type": "code",
      "source": [
        "# weights del primer filtro\n",
        "print('weights del primer filtro: \\n',weights[:, :, 0, 0])\n",
        "# bias del primer filtro\n",
        "print('sesgo del primer filtro: \\n',biases[0])"
      ],
      "metadata": {
        "colab": {
          "base_uri": "https://localhost:8080/"
        },
        "id": "W6jTI4ycWW1s",
        "outputId": "2e1a4c19-4301-4ed0-e0f4-940ef0d46ab9"
      },
      "execution_count": null,
      "outputs": [
        {
          "output_type": "stream",
          "name": "stdout",
          "text": [
            "weights del primer filtro: \n",
            " [[-0.07882086 -0.14010094 -0.06662542]\n",
            " [-0.0936535  -0.13314304  0.04729637]\n",
            " [ 0.24752165  0.16056968  0.03211296]]\n",
            "sesgo del primer filtro: \n",
            " 0.008277695\n"
          ]
        }
      ]
    },
    {
      "cell_type": "code",
      "source": [
        "print('weights: \\n',weights)\n",
        "print('sesgos: \\n',biases)"
      ],
      "metadata": {
        "colab": {
          "base_uri": "https://localhost:8080/"
        },
        "id": "KCDSLVOkZU9e",
        "outputId": "5dd760ea-5e7b-4489-a8ec-3c2e84a6c9fb"
      },
      "execution_count": null,
      "outputs": [
        {
          "output_type": "stream",
          "name": "stdout",
          "text": [
            "weights: \n",
            " [[[[-0.07882086  0.04287317 -0.11911798 -0.12451504 -0.13965021\n",
            "     0.11196936  0.22456168  0.00113202 -0.03255687 -0.0120583\n",
            "     0.0455315  -0.24472278 -0.0546826  -0.13259009 -0.01606022\n",
            "     0.17283994 -0.06694677  0.10937916 -0.07493772 -0.2402559\n",
            "     0.01258733 -0.07409808 -0.06891994  0.14143051  0.1802079\n",
            "     0.1501171   0.01913463 -0.10259363 -0.16318017 -0.19825232\n",
            "     0.20049608  0.07697939]]\n",
            "\n",
            "  [[-0.14010094 -0.05793418 -0.03309563 -0.07954349 -0.30110162\n",
            "    -0.04268762  0.26082233  0.07451948 -0.00633366 -0.10571428\n",
            "     0.14745988  0.00472468  0.14075562  0.1380144  -0.01017675\n",
            "     0.12971321  0.05660977 -0.15029822  0.04423676 -0.17490861\n",
            "    -0.25479922 -0.2554999   0.16345564  0.03612468  0.17967072\n",
            "     0.14560756 -0.05502401 -0.17289713  0.12790917 -0.11258874\n",
            "     0.1471923   0.14282224]]\n",
            "\n",
            "  [[-0.06662542 -0.09268038 -0.10904223  0.00104485 -0.06577017\n",
            "     0.00491719 -0.00133331  0.02329446  0.25585577 -0.10652927\n",
            "     0.22308713  0.12892878  0.12905255  0.16125588  0.10392333\n",
            "     0.08319262  0.00501179 -0.30404177  0.0059158   0.05292212\n",
            "    -0.02808305 -0.14146352 -0.23133758 -0.15111697  0.14100303\n",
            "     0.01191054 -0.02677864 -0.03790116  0.02035571  0.06813152\n",
            "    -0.2744785   0.13447589]]]\n",
            "\n",
            "\n",
            " [[[-0.0936535  -0.02488029 -0.0617597   0.08169308 -0.07175831\n",
            "     0.09077507  0.20573564 -0.11867192  0.1935741  -0.03464598\n",
            "    -0.07159884 -0.17073807 -0.2670257  -0.03578669  0.10575533\n",
            "    -0.08245554  0.13907821  0.15150702  0.08144742  0.20663081\n",
            "     0.19734485 -0.24658449 -0.05711225  0.09726968 -0.0067731\n",
            "    -0.05820474 -0.02678504 -0.20863684 -0.02245907 -0.28354585\n",
            "     0.10811028 -0.12293449]]\n",
            "\n",
            "  [[-0.13314304  0.17867087  0.1891162   0.23672651 -0.04856907\n",
            "     0.12576377  0.02761848  0.03090625  0.06467608 -0.07546894\n",
            "    -0.04584211  0.09662029  0.10920723 -0.03657174  0.09540372\n",
            "     0.03581319  0.15100123  0.0738195   0.14773048  0.01791072\n",
            "    -0.10765211 -0.12704167  0.18646452  0.00545059  0.00687041\n",
            "     0.04306686  0.12993085 -0.0715009   0.08937114 -0.00627073\n",
            "    -0.10805542 -0.06890246]]\n",
            "\n",
            "  [[ 0.04729637  0.0702926  -0.11936992  0.15954457  0.14262128\n",
            "     0.11337864 -0.27042425  0.15556034 -0.04281819 -0.09853948\n",
            "    -0.00927592  0.08583724  0.14037842  0.18384421  0.03017585\n",
            "     0.01618733  0.16732584 -0.22452563  0.03538593  0.12952931\n",
            "    -0.04941401  0.1227     -0.05096952 -0.10484373 -0.0011756\n",
            "     0.20388255  0.1328405   0.20164402  0.03286397  0.23116943\n",
            "    -0.17982318  0.133288  ]]]\n",
            "\n",
            "\n",
            " [[[ 0.24752165  0.06971782  0.0367558  -0.02345495  0.23645854\n",
            "    -0.18833764 -0.04059933 -0.03573263 -0.17489307 -0.01710735\n",
            "    -0.22097416  0.04582682 -0.28634003 -0.11513075 -0.05048817\n",
            "    -0.04233171 -0.28459993  0.18545431  0.03759287  0.03437222\n",
            "     0.17509644 -0.12387641 -0.16181394  0.16087687 -0.21472491\n",
            "    -0.19192348  0.10488711 -0.13113752  0.06883501 -0.13593368\n",
            "     0.06158728 -0.07485176]]\n",
            "\n",
            "  [[ 0.16056968  0.01957317  0.07988713 -0.13145007  0.25435415\n",
            "    -0.05305189 -0.3096969  -0.00760231 -0.08184762 -0.07471627\n",
            "    -0.2807269   0.19710757 -0.04215525 -0.21450795 -0.05529992\n",
            "     0.14281674 -0.16890962  0.21392283  0.05427069  0.14525045\n",
            "     0.08281119  0.03817868  0.14422825  0.0938887  -0.26359737\n",
            "    -0.22613086  0.10802417 -0.05641408  0.07209194 -0.03705391\n",
            "    -0.0526559  -0.0869427 ]]\n",
            "\n",
            "  [[ 0.03211296 -0.07813375  0.02852419 -0.17060784  0.03647764\n",
            "    -0.03024084 -0.31036374  0.10028923 -0.23001397 -0.12676767\n",
            "    -0.20485656 -0.0443444   0.16665229  0.10019808 -0.08541886\n",
            "     0.10061309  0.00507038  0.03218238 -0.18262757  0.05559091\n",
            "     0.08877419  0.22135702 -0.05544411 -0.25749812 -0.07417861\n",
            "    -0.16330025 -0.08377957  0.13792953 -0.14384337  0.22050986\n",
            "     0.03188216  0.13284793]]]]\n",
            "sesgos: \n",
            " [ 0.00827769 -0.05538496 -0.03182409 -0.0035349  -0.00146886 -0.03250355\n",
            "  0.05029533 -0.06269769  0.02698844  0.          0.0512904  -0.05329706\n",
            " -0.02637175 -0.01357444 -0.08169218 -0.14464588  0.00105876 -0.02070002\n",
            " -0.08110944 -0.0874681  -0.04423962  0.05658168  0.00275379  0.03857892\n",
            "  0.02450492  0.01501282 -0.08484539 -0.00088791 -0.06573888 -0.01943375\n",
            " -0.01509042 -0.12093142]\n"
          ]
        }
      ]
    },
    {
      "cell_type": "markdown",
      "source": [
        "### Visualizacion kernel de segunda CNN"
      ],
      "metadata": {
        "id": "bgXlpZlxzz9B"
      }
    },
    {
      "cell_type": "code",
      "source": [
        "# Obtenemos los pesos de la capa convolucional que deseas visualizar (por ejemplo, la primera capa convolucional)\n",
        "conv_layer = model.layers[3]  # Cambia el índice según sea necesario\n",
        "weights_2, biases_2 = conv_layer.get_weights()\n",
        "\n",
        "# Visualiza los kernels\n",
        "plt.figure(figsize=(10, 10))\n",
        "for i in range(weights_2.shape[3]):\n",
        "    plt.subplot(8, 8, i + 1)\n",
        "    plt.imshow(weights_2[:, :, 0, i], cmap='viridis')\n",
        "    plt.axis('off')\n",
        "plt.show()"
      ],
      "metadata": {
        "colab": {
          "base_uri": "https://localhost:8080/",
          "height": 807
        },
        "id": "B1cmCaIXz6wT",
        "outputId": "8f7020b9-c126-48f7-bd52-751fc80be34e"
      },
      "execution_count": null,
      "outputs": [
        {
          "output_type": "display_data",
          "data": {
            "text/plain": [
              "<Figure size 1000x1000 with 64 Axes>"
            ],
            "image/png": "[encoded data removed]"
          },
          "metadata": {}
        }
      ]
    },
    {
      "cell_type": "code",
      "source": [
        "# weights del segundo filtro\n",
        "print('weights del segundo filtro: \\n',weights_2[:, :, 0, 0])\n",
        "# bias del segundo filtro\n",
        "print('sesgo del segundo filtro: \\n',biases_2[0])"
      ],
      "metadata": {
        "colab": {
          "base_uri": "https://localhost:8080/"
        },
        "id": "F0-BRbjfZI93",
        "outputId": "6b01f4f9-5266-40bc-ccef-def96f1039bf"
      },
      "execution_count": null,
      "outputs": [
        {
          "output_type": "stream",
          "name": "stdout",
          "text": [
            "weights del segundo filtro: \n",
            " [[ 0.07373608  0.06062258 -0.07220849]\n",
            " [-0.07384498  0.19456676  0.2681362 ]\n",
            " [-0.07072092  0.03808115  0.17467599]]\n",
            "sesgo del segundo filtro: \n",
            " -0.04560599\n"
          ]
        }
      ]
    },
    {
      "cell_type": "markdown",
      "source": [
        "### Visualizacion kernel de tercera capa de CNN"
      ],
      "metadata": {
        "id": "UQjuXR_KYPp-"
      }
    },
    {
      "cell_type": "code",
      "source": [
        "# Obtenemos los pesos de la capa convolucional que deseas visualizar (por ejemplo, la primera capa convolucional)\n",
        "conv_layer = model.layers[5]  # Cambia el índice según sea necesario\n",
        "weights_3, biases_3 = conv_layer.get_weights()\n",
        "\n",
        "# Visualiza los kernels\n",
        "plt.figure(figsize=(10, 10))\n",
        "for i in range(weights_3.shape[3]):\n",
        "    plt.subplot(8, 16, i + 1)\n",
        "    plt.imshow(weights_3[:, :, 0, i], cmap='viridis')\n",
        "    plt.axis('off')\n",
        "plt.show()"
      ],
      "metadata": {
        "colab": {
          "base_uri": "https://localhost:8080/",
          "height": 765
        },
        "id": "2-p03ORLYYPv",
        "outputId": "85312207-9416-4e96-9eaa-214b168840b3"
      },
      "execution_count": null,
      "outputs": [
        {
          "output_type": "display_data",
          "data": {
            "text/plain": [
              "<Figure size 1000x1000 with 128 Axes>"
            ],
            "image/png": "[encoded data removed]"
          },
          "metadata": {}
        }
      ]
    },
    {
      "cell_type": "code",
      "source": [
        "# weights del tercer filtro\n",
        "print('weights del tercer filtro: \\n',weights_3[:, :, 0, 0])\n",
        "# bias del tercer filtro\n",
        "print('sesgo del tercer filtro: \\n',biases_3[0])"
      ],
      "metadata": {
        "colab": {
          "base_uri": "https://localhost:8080/"
        },
        "id": "Px5AosRRYitq",
        "outputId": "1e16f2c1-e7db-48f0-e271-66b0435d26ee"
      },
      "execution_count": null,
      "outputs": [
        {
          "output_type": "stream",
          "name": "stdout",
          "text": [
            "weights del tercer filtro: \n",
            " [[-0.05580435 -0.07153974 -0.10468023]\n",
            " [ 0.02103837 -0.00234212 -0.02648528]\n",
            " [ 0.11132417  0.09423359 -0.035819  ]]\n",
            "sesgo del tercer filtro: \n",
            " -0.053533904\n"
          ]
        }
      ]
    },
    {
      "cell_type": "markdown",
      "source": [
        "### Visualizacion de Feature Maps para primer capa CNN"
      ],
      "metadata": {
        "id": "ILQHVEra0Kxj"
      }
    },
    {
      "cell_type": "code",
      "source": [
        "# Mostrar la primera imagen del conjunto de datos MNIST\n",
        "plt.imshow(train_images[1], cmap='gray')\n",
        "plt.axis('off')  # Desactivar ejes\n",
        "plt.show()"
      ],
      "metadata": {
        "colab": {
          "base_uri": "https://localhost:8080/",
          "height": 406
        },
        "id": "Pab8cTN9aFiP",
        "outputId": "e7f579bc-2660-453a-8b0d-bb3cab973129"
      },
      "execution_count": null,
      "outputs": [
        {
          "output_type": "display_data",
          "data": {
            "text/plain": [
              "<Figure size 640x480 with 1 Axes>"
            ],
            "image/png": "[encoded data removed]"
          },
          "metadata": {}
        }
      ]
    },
    {
      "cell_type": "code",
      "source": [
        "model.layers"
      ],
      "metadata": {
        "colab": {
          "base_uri": "https://localhost:8080/"
        },
        "id": "0ssBFhvSbTuP",
        "outputId": "84ab6cde-8a36-4b92-daa1-a2e95838701a"
      },
      "execution_count": null,
      "outputs": [
        {
          "output_type": "execute_result",
          "data": {
            "text/plain": [
              "[<keras.src.engine.input_layer.InputLayer at 0x7951c52ba6b0>,\n",
              " <keras.src.layers.convolutional.conv2d.Conv2D at 0x7951c52bbf40>,\n",
              " <keras.src.layers.pooling.max_pooling2d.MaxPooling2D at 0x79513f0b5360>,\n",
              " <keras.src.layers.convolutional.conv2d.Conv2D at 0x79513f0b6da0>,\n",
              " <keras.src.layers.pooling.max_pooling2d.MaxPooling2D at 0x79513f0b6440>,\n",
              " <keras.src.layers.convolutional.conv2d.Conv2D at 0x79513f0b7730>,\n",
              " <keras.src.layers.reshaping.flatten.Flatten at 0x79513f0b74f0>,\n",
              " <keras.src.layers.core.dense.Dense at 0x79513e7d4220>]"
            ]
          },
          "metadata": {},
          "execution_count": 10
        }
      ]
    },
    {
      "cell_type": "markdown",
      "source": [
        "#### Salida de CNN layer"
      ],
      "metadata": {
        "id": "f-2uthXQb9Mv"
      }
    },
    {
      "cell_type": "code",
      "source": [
        "# Carga una imagen de entrada (asegúrate de que tenga las mismas dimensiones que las entradas de tu modelo)\n",
        "input_image = train_images[1]  # Cambia esto según tus necesidades\n",
        "\n",
        "# Define un nuevo modelo que solo tenga las capas de interés (hasta la capa que deseas visualizar)\n",
        "visualization_model = tf.keras.models.Model(inputs=model.input, outputs=model.layers[1].output)  # Cambia el índice según sea necesario\n",
        "\n",
        "# Calcula los feature maps para la imagen de entrada\n",
        "feature_maps = visualization_model.predict(np.expand_dims(input_image, axis=0))\n",
        "\n",
        "# Visualiza los feature maps\n",
        "plt.figure(figsize=(10, 10))\n",
        "for i in range(feature_maps.shape[3]):\n",
        "    plt.subplot(8, 8, i + 1)\n",
        "    plt.imshow(feature_maps[0, :, :, i], cmap='viridis')\n",
        "    plt.axis('off')\n",
        "plt.show()"
      ],
      "metadata": {
        "colab": {
          "base_uri": "https://localhost:8080/",
          "height": 430
        },
        "id": "A4mkYhEE0GtQ",
        "outputId": "771482e5-2461-4f02-bde4-f0fc1df677f4"
      },
      "execution_count": null,
      "outputs": [
        {
          "output_type": "stream",
          "name": "stdout",
          "text": [
            "1/1 [==============================] - 0s 110ms/step\n"
          ]
        },
        {
          "output_type": "display_data",
          "data": {
            "text/plain": [
              "<Figure size 1000x1000 with 32 Axes>"
            ],
            "image/png": "[encoded data removed]"
          },
          "metadata": {}
        }
      ]
    },
    {
      "cell_type": "markdown",
      "source": [
        "#### Salida de Pooling (max)"
      ],
      "metadata": {
        "id": "KHjS3BnIcByc"
      }
    },
    {
      "cell_type": "code",
      "source": [
        "# Carga una imagen de entrada (asegúrate de que tenga las mismas dimensiones que las entradas de tu modelo)\n",
        "# input_image = train_images[0]  # Cambia esto según tus necesidades\n",
        "\n",
        "# Define un nuevo modelo que solo tenga las capas de interés (hasta la capa que deseas visualizar)\n",
        "visualization_model = tf.keras.models.Model(inputs=model.input, outputs=model.layers[2].output)  # Cambia el índice según sea necesario\n",
        "\n",
        "# Calcula los feature maps para la imagen de entrada\n",
        "feature_maps = visualization_model.predict(np.expand_dims(input_image, axis=0))\n",
        "\n",
        "# Visualiza los feature maps\n",
        "plt.figure(figsize=(10, 10))\n",
        "for i in range(feature_maps.shape[3]):\n",
        "    plt.subplot(8, 8, i + 1)\n",
        "    plt.imshow(feature_maps[0, :, :, i], cmap='viridis')\n",
        "    plt.axis('off')\n",
        "plt.show()"
      ],
      "metadata": {
        "colab": {
          "base_uri": "https://localhost:8080/",
          "height": 430
        },
        "id": "2-7hMb-cbqJT",
        "outputId": "2e05bc07-f8a6-41f1-e078-a7da167eddc8"
      },
      "execution_count": null,
      "outputs": [
        {
          "output_type": "stream",
          "name": "stdout",
          "text": [
            "1/1 [==============================] - 0s 155ms/step\n"
          ]
        },
        {
          "output_type": "display_data",
          "data": {
            "text/plain": [
              "<Figure size 1000x1000 with 32 Axes>"
            ],
            "image/png": "[encoded data removed]"
          },
          "metadata": {}
        }
      ]
    },
    {
      "cell_type": "markdown",
      "source": [
        "#### Salida de 2da capa CNN"
      ],
      "metadata": {
        "id": "EebJK3oKcWpg"
      }
    },
    {
      "cell_type": "code",
      "source": [
        "# Carga una imagen de entrada (asegúrate de que tenga las mismas dimensiones que las entradas de tu modelo)\n",
        "# input_image = train_images[0]  # Cambia esto según tus necesidades\n",
        "\n",
        "# Define un nuevo modelo que solo tenga las capas de interés (hasta la capa que deseas visualizar)\n",
        "visualization_model = tf.keras.models.Model(inputs=model.input, outputs=model.layers[3].output)  # Cambia el índice según sea necesario\n",
        "\n",
        "# Calcula los feature maps para la imagen de entrada\n",
        "feature_maps = visualization_model.predict(np.expand_dims(input_image, axis=0))\n",
        "\n",
        "# Visualiza los feature maps\n",
        "plt.figure(figsize=(10, 10))\n",
        "for i in range(feature_maps.shape[3]):\n",
        "    plt.subplot(8, 8, i + 1)\n",
        "    plt.imshow(feature_maps[0, :, :, i], cmap='viridis')\n",
        "    plt.axis('off')\n",
        "plt.show()"
      ],
      "metadata": {
        "colab": {
          "base_uri": "https://localhost:8080/",
          "height": 824
        },
        "id": "hfsmenVNcQ9I",
        "outputId": "c538e805-b748-43f8-f022-b465c0991a51"
      },
      "execution_count": null,
      "outputs": [
        {
          "output_type": "stream",
          "name": "stdout",
          "text": [
            "1/1 [==============================] - 0s 149ms/step\n"
          ]
        },
        {
          "output_type": "display_data",
          "data": {
            "text/plain": [
              "<Figure size 1000x1000 with 64 Axes>"
            ],
            "image/png": "[encoded data removed]"
          },
          "metadata": {}
        }
      ]
    },
    {
      "cell_type": "markdown",
      "source": [
        "#### Salida de 2da capa Pooling (max)"
      ],
      "metadata": {
        "id": "uYXvRdSYcZ7L"
      }
    },
    {
      "cell_type": "code",
      "source": [
        "# Carga una imagen de entrada (asegúrate de que tenga las mismas dimensiones que las entradas de tu modelo)\n",
        "# input_image = train_images[0]  # Cambia esto según tus necesidades\n",
        "\n",
        "# Define un nuevo modelo que solo tenga las capas de interés (hasta la capa que deseas visualizar)\n",
        "visualization_model = tf.keras.models.Model(inputs=model.input, outputs=model.layers[4].output)  # Cambia el índice según sea necesario\n",
        "\n",
        "# Calcula los feature maps para la imagen de entrada\n",
        "feature_maps = visualization_model.predict(np.expand_dims(input_image, axis=0))\n",
        "\n",
        "# Visualiza los feature maps\n",
        "plt.figure(figsize=(10, 10))\n",
        "for i in range(feature_maps.shape[3]):\n",
        "    plt.subplot(8, 8, i + 1)\n",
        "    plt.imshow(feature_maps[0, :, :, i], cmap='viridis')\n",
        "    plt.axis('off')\n",
        "plt.show()"
      ],
      "metadata": {
        "colab": {
          "base_uri": "https://localhost:8080/",
          "height": 824
        },
        "id": "Q-YpbTo8cf1a",
        "outputId": "55f668f3-6f7e-45d7-aec9-8d12577c135a"
      },
      "execution_count": null,
      "outputs": [
        {
          "output_type": "stream",
          "name": "stdout",
          "text": [
            "1/1 [==============================] - 0s 203ms/step\n"
          ]
        },
        {
          "output_type": "display_data",
          "data": {
            "text/plain": [
              "<Figure size 1000x1000 with 64 Axes>"
            ],
            "image/png": "[encoded data removed]"
          },
          "metadata": {}
        }
      ]
    },
    {
      "cell_type": "markdown",
      "source": [
        "#### Salida de 3ra capa CNN"
      ],
      "metadata": {
        "id": "PPs3eXgscojG"
      }
    },
    {
      "cell_type": "code",
      "source": [
        "# Carga una imagen de entrada (asegúrate de que tenga las mismas dimensiones que las entradas de tu modelo)\n",
        "# input_image = train_images[0]  # Cambia esto según tus necesidades\n",
        "\n",
        "# Define un nuevo modelo que solo tenga las capas de interés (hasta la capa que deseas visualizar)\n",
        "visualization_model = tf.keras.models.Model(inputs=model.input, outputs=model.layers[4].output)  # Cambia el índice según sea necesario\n",
        "\n",
        "# Calcula los feature maps para la imagen de entrada\n",
        "feature_maps = visualization_model.predict(np.expand_dims(input_image, axis=0))\n",
        "\n",
        "# Visualiza los feature maps\n",
        "plt.figure(figsize=(10, 10))\n",
        "for i in range(feature_maps.shape[3]):\n",
        "    plt.subplot(8, 8, i + 1)\n",
        "    plt.imshow(feature_maps[0, :, :, i], cmap='viridis')\n",
        "    plt.axis('off')\n",
        "plt.show()"
      ],
      "metadata": {
        "id": "TN5kHAMDcqyC",
        "outputId": "9708c7f2-af38-431f-bfae-20a9878e2c7e",
        "colab": {
          "base_uri": "https://localhost:8080/",
          "height": 862
        }
      },
      "execution_count": null,
      "outputs": [
        {
          "output_type": "stream",
          "name": "stderr",
          "text": [
            "WARNING:tensorflow:5 out of the last 5 calls to <function Model.make_predict_function.<locals>.predict_function at 0x79509f3a7400> triggered tf.function retracing. Tracing is expensive and the excessive number of tracings could be due to (1) creating @tf.function repeatedly in a loop, (2) passing tensors with different shapes, (3) passing Python objects instead of tensors. For (1), please define your @tf.function outside of the loop. For (2), @tf.function has reduce_retracing=True option that can avoid unnecessary retracing. For (3), please refer to https://www.tensorflow.org/guide/function#controlling_retracing and https://www.tensorflow.org/api_docs/python/tf/function for  more details.\n"
          ]
        },
        {
          "output_type": "stream",
          "name": "stdout",
          "text": [
            "1/1 [==============================] - 0s 99ms/step\n"
          ]
        },
        {
          "output_type": "display_data",
          "data": {
            "text/plain": [
              "<Figure size 1000x1000 with 64 Axes>"
            ],
            "image/png": "[encoded data removed]"
          },
          "metadata": {}
        }
      ]
    },
    {
      "cell_type": "markdown",
      "metadata": {
        "id": "NzdL-RnQyfwD"
      },
      "source": [
        "**Evaluating the convnet**"
      ]
    },
    {
      "cell_type": "code",
      "execution_count": null,
      "metadata": {
        "id": "aE6P0_vEyfwD",
        "colab": {
          "base_uri": "https://localhost:8080/"
        },
        "outputId": "fdc65aec-05e3-4222-ea40-e5381a5e49af"
      },
      "outputs": [
        {
          "output_type": "stream",
          "name": "stdout",
          "text": [
            "313/313 [==============================] - 1s 3ms/step - loss: 0.0247 - accuracy: 0.9920\n",
            "Test accuracy: 0.992\n"
          ]
        }
      ],
      "source": [
        "test_loss, test_acc = model.evaluate(test_images, test_labels)\n",
        "print(f\"Test accuracy: {test_acc:.3f}\")"
      ]
    },
    {
      "cell_type": "markdown",
      "metadata": {
        "id": "AiidNmK7yfwD"
      },
      "source": [
        "### The convolution operation"
      ]
    },
    {
      "cell_type": "markdown",
      "metadata": {
        "id": "pcva0OylyfwE"
      },
      "source": [
        "#### Understanding border effects and padding"
      ]
    },
    {
      "cell_type": "markdown",
      "metadata": {
        "id": "zjmdWDInyfwE"
      },
      "source": [
        "#### Understanding convolution strides"
      ]
    },
    {
      "cell_type": "markdown",
      "metadata": {
        "id": "LgQc_epSyfwE"
      },
      "source": [
        "### The max-pooling operation"
      ]
    },
    {
      "cell_type": "markdown",
      "metadata": {
        "id": "6ZEk3HdHyfwE"
      },
      "source": [
        "**An incorrectly structured convnet missing its max-pooling layers**"
      ]
    },
    {
      "cell_type": "code",
      "execution_count": null,
      "metadata": {
        "id": "J5rlu_xEyfwE"
      },
      "outputs": [],
      "source": [
        "inputs = keras.Input(shape=(28, 28, 1))\n",
        "x = layers.Conv2D(filters=32, kernel_size=3, activation=\"relu\")(inputs)\n",
        "x = layers.Conv2D(filters=64, kernel_size=3, activation=\"relu\")(x)\n",
        "x = layers.Conv2D(filters=128, kernel_size=3, activation=\"relu\")(x)\n",
        "x = layers.Flatten()(x)\n",
        "outputs = layers.Dense(10, activation=\"softmax\")(x)\n",
        "model_no_max_pool = keras.Model(inputs=inputs, outputs=outputs)"
      ]
    },
    {
      "cell_type": "code",
      "execution_count": null,
      "metadata": {
        "id": "qvEEakuGyfwE"
      },
      "outputs": [],
      "source": [
        "model_no_max_pool.summary()"
      ]
    },
    {
      "cell_type": "markdown",
      "metadata": {
        "id": "DCFdlzflyfwE"
      },
      "source": [
        "## Training a convnet from scratch on a small dataset"
      ]
    },
    {
      "cell_type": "markdown",
      "metadata": {
        "id": "O9Kt8fG3yfwE"
      },
      "source": [
        "### The relevance of deep learning for small-data problems"
      ]
    },
    {
      "cell_type": "markdown",
      "metadata": {
        "id": "eUjaFCOKyfwE"
      },
      "source": [
        "### Downloading the data"
      ]
    },
    {
      "cell_type": "code",
      "execution_count": null,
      "metadata": {
        "id": "7FHa5fW4yfwE"
      },
      "outputs": [],
      "source": [
        "from google.colab import files\n",
        "files.upload()"
      ]
    },
    {
      "cell_type": "code",
      "execution_count": null,
      "metadata": {
        "id": "MyEeeC-tyfwF"
      },
      "outputs": [],
      "source": [
        "!mkdir ~/.kaggle\n",
        "!cp kaggle.json ~/.kaggle/\n",
        "!chmod 600 ~/.kaggle/kaggle.json"
      ]
    },
    {
      "cell_type": "code",
      "execution_count": null,
      "metadata": {
        "id": "vOE7mVlyyfwF"
      },
      "outputs": [],
      "source": [
        "!kaggle competitions download -c dogs-vs-cats"
      ]
    },
    {
      "cell_type": "code",
      "execution_count": null,
      "metadata": {
        "id": "Qgjpj1xNyfwF"
      },
      "outputs": [],
      "source": [
        "!unzip -qq dogs-vs-cats.zip"
      ]
    },
    {
      "cell_type": "code",
      "execution_count": null,
      "metadata": {
        "id": "ORpLtv5ByfwF"
      },
      "outputs": [],
      "source": [
        "!unzip -qq train.zip"
      ]
    },
    {
      "cell_type": "markdown",
      "metadata": {
        "id": "_9dCSIgkyfwF"
      },
      "source": [
        "**Copying images to training, validation, and test directories**"
      ]
    },
    {
      "cell_type": "code",
      "execution_count": null,
      "metadata": {
        "id": "zPQuJLvdyfwF"
      },
      "outputs": [],
      "source": [
        "import os, shutil, pathlib\n",
        "\n",
        "original_dir = pathlib.Path(\"train\")\n",
        "new_base_dir = pathlib.Path(\"cats_vs_dogs_small\")\n",
        "\n",
        "def make_subset(subset_name, start_index, end_index):\n",
        "    for category in (\"cat\", \"dog\"):\n",
        "        dir = new_base_dir / subset_name / category\n",
        "        os.makedirs(dir)\n",
        "        fnames = [f\"{category}.{i}.jpg\" for i in range(start_index, end_index)]\n",
        "        for fname in fnames:\n",
        "            shutil.copyfile(src=original_dir / fname,\n",
        "                            dst=dir / fname)\n",
        "\n",
        "make_subset(\"train\", start_index=0, end_index=1000)\n",
        "make_subset(\"validation\", start_index=1000, end_index=1500)\n",
        "make_subset(\"test\", start_index=1500, end_index=2500)"
      ]
    },
    {
      "cell_type": "markdown",
      "metadata": {
        "id": "yIFu6BSayfwF"
      },
      "source": [
        "### Building the model"
      ]
    },
    {
      "cell_type": "markdown",
      "metadata": {
        "id": "uXdtkknfyfwF"
      },
      "source": [
        "**Instantiating a small convnet for dogs vs. cats classification**"
      ]
    },
    {
      "cell_type": "code",
      "execution_count": null,
      "metadata": {
        "id": "IWHkJoicyfwF"
      },
      "outputs": [],
      "source": [
        "from tensorflow import keras\n",
        "from tensorflow.keras import layers\n",
        "\n",
        "inputs = keras.Input(shape=(180, 180, 3))\n",
        "x = layers.Rescaling(1./255)(inputs)\n",
        "x = layers.Conv2D(filters=32, kernel_size=3, activation=\"relu\")(x)\n",
        "x = layers.MaxPooling2D(pool_size=2)(x)\n",
        "x = layers.Conv2D(filters=64, kernel_size=3, activation=\"relu\")(x)\n",
        "x = layers.MaxPooling2D(pool_size=2)(x)\n",
        "x = layers.Conv2D(filters=128, kernel_size=3, activation=\"relu\")(x)\n",
        "x = layers.MaxPooling2D(pool_size=2)(x)\n",
        "x = layers.Conv2D(filters=256, kernel_size=3, activation=\"relu\")(x)\n",
        "x = layers.MaxPooling2D(pool_size=2)(x)\n",
        "x = layers.Conv2D(filters=256, kernel_size=3, activation=\"relu\")(x)\n",
        "x = layers.Flatten()(x)\n",
        "outputs = layers.Dense(1, activation=\"sigmoid\")(x)\n",
        "model = keras.Model(inputs=inputs, outputs=outputs)"
      ]
    },
    {
      "cell_type": "code",
      "execution_count": null,
      "metadata": {
        "id": "niRh6nISyfwF"
      },
      "outputs": [],
      "source": [
        "model.summary()"
      ]
    },
    {
      "cell_type": "markdown",
      "metadata": {
        "id": "EVuvVfNYyfwF"
      },
      "source": [
        "**Configuring the model for training**"
      ]
    },
    {
      "cell_type": "code",
      "execution_count": null,
      "metadata": {
        "id": "CKIU9JLQyfwF"
      },
      "outputs": [],
      "source": [
        "model.compile(loss=\"binary_crossentropy\",\n",
        "              optimizer=\"rmsprop\",\n",
        "              metrics=[\"accuracy\"])"
      ]
    },
    {
      "cell_type": "markdown",
      "metadata": {
        "id": "arLD6LgbyfwF"
      },
      "source": [
        "### Data preprocessing"
      ]
    },
    {
      "cell_type": "markdown",
      "metadata": {
        "id": "xv1zLPUhyfwF"
      },
      "source": [
        "**Using `image_dataset_from_directory` to read images**"
      ]
    },
    {
      "cell_type": "code",
      "execution_count": null,
      "metadata": {
        "id": "LUxwj7XMyfwF"
      },
      "outputs": [],
      "source": [
        "from tensorflow.keras.utils import image_dataset_from_directory\n",
        "\n",
        "train_dataset = image_dataset_from_directory(\n",
        "    new_base_dir / \"train\",\n",
        "    image_size=(180, 180),\n",
        "    batch_size=32)\n",
        "validation_dataset = image_dataset_from_directory(\n",
        "    new_base_dir / \"validation\",\n",
        "    image_size=(180, 180),\n",
        "    batch_size=32)\n",
        "test_dataset = image_dataset_from_directory(\n",
        "    new_base_dir / \"test\",\n",
        "    image_size=(180, 180),\n",
        "    batch_size=32)"
      ]
    },
    {
      "cell_type": "code",
      "execution_count": null,
      "metadata": {
        "id": "wDyfhn7DyfwF"
      },
      "outputs": [],
      "source": [
        "import numpy as np\n",
        "import tensorflow as tf\n",
        "random_numbers = np.random.normal(size=(1000, 16))\n",
        "dataset = tf.data.Dataset.from_tensor_slices(random_numbers)"
      ]
    },
    {
      "cell_type": "code",
      "execution_count": null,
      "metadata": {
        "id": "1XZrbiD5yfwF"
      },
      "outputs": [],
      "source": [
        "for i, element in enumerate(dataset):\n",
        "    print(element.shape)\n",
        "    if i >= 2:\n",
        "        break"
      ]
    },
    {
      "cell_type": "code",
      "execution_count": null,
      "metadata": {
        "id": "8BQO-3TayfwG"
      },
      "outputs": [],
      "source": [
        "batched_dataset = dataset.batch(32)\n",
        "for i, element in enumerate(batched_dataset):\n",
        "    print(element.shape)\n",
        "    if i >= 2:\n",
        "        break"
      ]
    },
    {
      "cell_type": "code",
      "execution_count": null,
      "metadata": {
        "id": "ghFoZotPyfwG"
      },
      "outputs": [],
      "source": [
        "reshaped_dataset = dataset.map(lambda x: tf.reshape(x, (4, 4)))\n",
        "for i, element in enumerate(reshaped_dataset):\n",
        "    print(element.shape)\n",
        "    if i >= 2:\n",
        "        break"
      ]
    },
    {
      "cell_type": "markdown",
      "metadata": {
        "id": "7LHsfwe_yfwG"
      },
      "source": [
        "**Displaying the shapes of the data and labels yielded by the `Dataset`**"
      ]
    },
    {
      "cell_type": "code",
      "execution_count": null,
      "metadata": {
        "id": "mBi8nHiJyfwG"
      },
      "outputs": [],
      "source": [
        "for data_batch, labels_batch in train_dataset:\n",
        "    print(\"data batch shape:\", data_batch.shape)\n",
        "    print(\"labels batch shape:\", labels_batch.shape)\n",
        "    break"
      ]
    },
    {
      "cell_type": "markdown",
      "metadata": {
        "id": "VKjWMyVYyfwG"
      },
      "source": [
        "**Fitting the model using a `Dataset`**"
      ]
    },
    {
      "cell_type": "code",
      "execution_count": null,
      "metadata": {
        "id": "TBCEZCE5yfwG"
      },
      "outputs": [],
      "source": [
        "callbacks = [\n",
        "    keras.callbacks.ModelCheckpoint(\n",
        "        filepath=\"convnet_from_scratch.keras\",\n",
        "        save_best_only=True,\n",
        "        monitor=\"val_loss\")\n",
        "]\n",
        "history = model.fit(\n",
        "    train_dataset,\n",
        "    epochs=30,\n",
        "    validation_data=validation_dataset,\n",
        "    callbacks=callbacks)"
      ]
    },
    {
      "cell_type": "markdown",
      "metadata": {
        "id": "jp0gDoBIyfwG"
      },
      "source": [
        "**Displaying curves of loss and accuracy during training**"
      ]
    },
    {
      "cell_type": "code",
      "execution_count": null,
      "metadata": {
        "id": "dAhuCTMCyfwG"
      },
      "outputs": [],
      "source": [
        "import matplotlib.pyplot as plt\n",
        "accuracy = history.history[\"accuracy\"]\n",
        "val_accuracy = history.history[\"val_accuracy\"]\n",
        "loss = history.history[\"loss\"]\n",
        "val_loss = history.history[\"val_loss\"]\n",
        "epochs = range(1, len(accuracy) + 1)\n",
        "plt.plot(epochs, accuracy, \"bo\", label=\"Training accuracy\")\n",
        "plt.plot(epochs, val_accuracy, \"b\", label=\"Validation accuracy\")\n",
        "plt.title(\"Training and validation accuracy\")\n",
        "plt.legend()\n",
        "plt.figure()\n",
        "plt.plot(epochs, loss, \"bo\", label=\"Training loss\")\n",
        "plt.plot(epochs, val_loss, \"b\", label=\"Validation loss\")\n",
        "plt.title(\"Training and validation loss\")\n",
        "plt.legend()\n",
        "plt.show()"
      ]
    },
    {
      "cell_type": "markdown",
      "metadata": {
        "id": "7orogjwjyfwH"
      },
      "source": [
        "**Evaluating the model on the test set**"
      ]
    },
    {
      "cell_type": "code",
      "execution_count": null,
      "metadata": {
        "id": "WbMDHDvfyfwH"
      },
      "outputs": [],
      "source": [
        "test_model = keras.models.load_model(\"convnet_from_scratch.keras\")\n",
        "test_loss, test_acc = test_model.evaluate(test_dataset)\n",
        "print(f\"Test accuracy: {test_acc:.3f}\")"
      ]
    },
    {
      "cell_type": "markdown",
      "metadata": {
        "id": "CxbwuomSyfwH"
      },
      "source": [
        "### Using data augmentation"
      ]
    },
    {
      "cell_type": "markdown",
      "metadata": {
        "id": "sFCjiG7AyfwH"
      },
      "source": [
        "**Define a data augmentation stage to add to an image model**"
      ]
    },
    {
      "cell_type": "code",
      "execution_count": null,
      "metadata": {
        "id": "cxY9dY1NyfwH"
      },
      "outputs": [],
      "source": [
        "data_augmentation = keras.Sequential(\n",
        "    [\n",
        "        layers.RandomFlip(\"horizontal\"),\n",
        "        layers.RandomRotation(0.1),\n",
        "        layers.RandomZoom(0.2),\n",
        "    ]\n",
        ")"
      ]
    },
    {
      "cell_type": "markdown",
      "metadata": {
        "id": "LkDuubRIyfwH"
      },
      "source": [
        "**Displaying some randomly augmented training images**"
      ]
    },
    {
      "cell_type": "code",
      "execution_count": null,
      "metadata": {
        "id": "_326ZJGwyfwH"
      },
      "outputs": [],
      "source": [
        "plt.figure(figsize=(10, 10))\n",
        "for images, _ in train_dataset.take(1):\n",
        "    for i in range(9):\n",
        "        augmented_images = data_augmentation(images)\n",
        "        ax = plt.subplot(3, 3, i + 1)\n",
        "        plt.imshow(augmented_images[0].numpy().astype(\"uint8\"))\n",
        "        plt.axis(\"off\")"
      ]
    },
    {
      "cell_type": "markdown",
      "metadata": {
        "id": "y5I3e22VyfwH"
      },
      "source": [
        "**Defining a new convnet that includes image augmentation and dropout**"
      ]
    },
    {
      "cell_type": "code",
      "execution_count": null,
      "metadata": {
        "id": "wpfxrT9MyfwH"
      },
      "outputs": [],
      "source": [
        "inputs = keras.Input(shape=(180, 180, 3))\n",
        "x = data_augmentation(inputs)\n",
        "x = layers.Rescaling(1./255)(x)\n",
        "x = layers.Conv2D(filters=32, kernel_size=3, activation=\"relu\")(x)\n",
        "x = layers.MaxPooling2D(pool_size=2)(x)\n",
        "x = layers.Conv2D(filters=64, kernel_size=3, activation=\"relu\")(x)\n",
        "x = layers.MaxPooling2D(pool_size=2)(x)\n",
        "x = layers.Conv2D(filters=128, kernel_size=3, activation=\"relu\")(x)\n",
        "x = layers.MaxPooling2D(pool_size=2)(x)\n",
        "x = layers.Conv2D(filters=256, kernel_size=3, activation=\"relu\")(x)\n",
        "x = layers.MaxPooling2D(pool_size=2)(x)\n",
        "x = layers.Conv2D(filters=256, kernel_size=3, activation=\"relu\")(x)\n",
        "x = layers.Flatten()(x)\n",
        "x = layers.Dropout(0.5)(x)\n",
        "outputs = layers.Dense(1, activation=\"sigmoid\")(x)\n",
        "model = keras.Model(inputs=inputs, outputs=outputs)\n",
        "\n",
        "model.compile(loss=\"binary_crossentropy\",\n",
        "              optimizer=\"rmsprop\",\n",
        "              metrics=[\"accuracy\"])"
      ]
    },
    {
      "cell_type": "markdown",
      "metadata": {
        "id": "AIi8yizMyfwH"
      },
      "source": [
        "**Training the regularized convnet**"
      ]
    },
    {
      "cell_type": "code",
      "execution_count": null,
      "metadata": {
        "id": "7FdBI1XDyfwH"
      },
      "outputs": [],
      "source": [
        "callbacks = [\n",
        "    keras.callbacks.ModelCheckpoint(\n",
        "        filepath=\"convnet_from_scratch_with_augmentation.keras\",\n",
        "        save_best_only=True,\n",
        "        monitor=\"val_loss\")\n",
        "]\n",
        "history = model.fit(\n",
        "    train_dataset,\n",
        "    epochs=100,\n",
        "    validation_data=validation_dataset,\n",
        "    callbacks=callbacks)"
      ]
    },
    {
      "cell_type": "markdown",
      "metadata": {
        "id": "YH3lvzZyyfwH"
      },
      "source": [
        "**Evaluating the model on the test set**"
      ]
    },
    {
      "cell_type": "code",
      "execution_count": null,
      "metadata": {
        "id": "oERjzg1UyfwH"
      },
      "outputs": [],
      "source": [
        "test_model = keras.models.load_model(\n",
        "    \"convnet_from_scratch_with_augmentation.keras\")\n",
        "test_loss, test_acc = test_model.evaluate(test_dataset)\n",
        "print(f\"Test accuracy: {test_acc:.3f}\")"
      ]
    },
    {
      "cell_type": "markdown",
      "metadata": {
        "id": "QdlCTcUJyfwH"
      },
      "source": [
        "## Leveraging a pretrained model"
      ]
    },
    {
      "cell_type": "markdown",
      "metadata": {
        "id": "S2KdTlNQyfwH"
      },
      "source": [
        "### Feature extraction with a pretrained model"
      ]
    },
    {
      "cell_type": "markdown",
      "metadata": {
        "id": "9x2eHSr1yfwH"
      },
      "source": [
        "**Instantiating the VGG16 convolutional base**"
      ]
    },
    {
      "cell_type": "code",
      "execution_count": null,
      "metadata": {
        "id": "GsA8lVY4yfwH"
      },
      "outputs": [],
      "source": [
        "conv_base = keras.applications.vgg16.VGG16(\n",
        "    weights=\"imagenet\",\n",
        "    include_top=False,\n",
        "    input_shape=(180, 180, 3))"
      ]
    },
    {
      "cell_type": "code",
      "execution_count": null,
      "metadata": {
        "id": "JBAG0aBoyfwH"
      },
      "outputs": [],
      "source": [
        "conv_base.summary()"
      ]
    },
    {
      "cell_type": "markdown",
      "metadata": {
        "id": "3SgOe0sfyfwH"
      },
      "source": [
        "#### Fast feature extraction without data augmentation"
      ]
    },
    {
      "cell_type": "markdown",
      "metadata": {
        "id": "HsIpPC36yfwI"
      },
      "source": [
        "**Extracting the VGG16 features and corresponding labels**"
      ]
    },
    {
      "cell_type": "code",
      "execution_count": null,
      "metadata": {
        "id": "woiisKygyfwI"
      },
      "outputs": [],
      "source": [
        "import numpy as np\n",
        "\n",
        "def get_features_and_labels(dataset):\n",
        "    all_features = []\n",
        "    all_labels = []\n",
        "    for images, labels in dataset:\n",
        "        preprocessed_images = keras.applications.vgg16.preprocess_input(images)\n",
        "        features = conv_base.predict(preprocessed_images)\n",
        "        all_features.append(features)\n",
        "        all_labels.append(labels)\n",
        "    return np.concatenate(all_features), np.concatenate(all_labels)\n",
        "\n",
        "train_features, train_labels =  get_features_and_labels(train_dataset)\n",
        "val_features, val_labels =  get_features_and_labels(validation_dataset)\n",
        "test_features, test_labels =  get_features_and_labels(test_dataset)"
      ]
    },
    {
      "cell_type": "code",
      "execution_count": null,
      "metadata": {
        "id": "5eD0RkosyfwI"
      },
      "outputs": [],
      "source": [
        "train_features.shape"
      ]
    },
    {
      "cell_type": "markdown",
      "metadata": {
        "id": "0Ub2UauuyfwI"
      },
      "source": [
        "**Defining and training the densely connected classifier**"
      ]
    },
    {
      "cell_type": "code",
      "execution_count": null,
      "metadata": {
        "id": "PmFZ3cKAyfwI"
      },
      "outputs": [],
      "source": [
        "inputs = keras.Input(shape=(5, 5, 512))\n",
        "x = layers.Flatten()(inputs)\n",
        "x = layers.Dense(256)(x)\n",
        "x = layers.Dropout(0.5)(x)\n",
        "outputs = layers.Dense(1, activation=\"sigmoid\")(x)\n",
        "model = keras.Model(inputs, outputs)\n",
        "model.compile(loss=\"binary_crossentropy\",\n",
        "              optimizer=\"rmsprop\",\n",
        "              metrics=[\"accuracy\"])\n",
        "\n",
        "callbacks = [\n",
        "    keras.callbacks.ModelCheckpoint(\n",
        "      filepath=\"feature_extraction.keras\",\n",
        "      save_best_only=True,\n",
        "      monitor=\"val_loss\")\n",
        "]\n",
        "history = model.fit(\n",
        "    train_features, train_labels,\n",
        "    epochs=20,\n",
        "    validation_data=(val_features, val_labels),\n",
        "    callbacks=callbacks)"
      ]
    },
    {
      "cell_type": "markdown",
      "metadata": {
        "id": "WPRoIp-kyfwI"
      },
      "source": [
        "**Plotting the results**"
      ]
    },
    {
      "cell_type": "code",
      "execution_count": null,
      "metadata": {
        "id": "bb9aXuuwyfwI"
      },
      "outputs": [],
      "source": [
        "import matplotlib.pyplot as plt\n",
        "acc = history.history[\"accuracy\"]\n",
        "val_acc = history.history[\"val_accuracy\"]\n",
        "loss = history.history[\"loss\"]\n",
        "val_loss = history.history[\"val_loss\"]\n",
        "epochs = range(1, len(acc) + 1)\n",
        "plt.plot(epochs, acc, \"bo\", label=\"Training accuracy\")\n",
        "plt.plot(epochs, val_acc, \"b\", label=\"Validation accuracy\")\n",
        "plt.title(\"Training and validation accuracy\")\n",
        "plt.legend()\n",
        "plt.figure()\n",
        "plt.plot(epochs, loss, \"bo\", label=\"Training loss\")\n",
        "plt.plot(epochs, val_loss, \"b\", label=\"Validation loss\")\n",
        "plt.title(\"Training and validation loss\")\n",
        "plt.legend()\n",
        "plt.show()"
      ]
    },
    {
      "cell_type": "markdown",
      "metadata": {
        "id": "wsxjw_4myfwJ"
      },
      "source": [
        "#### Feature extraction together with data augmentation"
      ]
    },
    {
      "cell_type": "markdown",
      "metadata": {
        "id": "wRrlZ1SJyfwJ"
      },
      "source": [
        "**Instantiating and freezing the VGG16 convolutional base**"
      ]
    },
    {
      "cell_type": "code",
      "execution_count": null,
      "metadata": {
        "id": "znxbj2-KyfwJ"
      },
      "outputs": [],
      "source": [
        "conv_base  = keras.applications.vgg16.VGG16(\n",
        "    weights=\"imagenet\",\n",
        "    include_top=False)\n",
        "conv_base.trainable = False"
      ]
    },
    {
      "cell_type": "markdown",
      "metadata": {
        "id": "O0ExRNTWyfwJ"
      },
      "source": [
        "**Printing the list of trainable weights before and after freezing**"
      ]
    },
    {
      "cell_type": "code",
      "execution_count": null,
      "metadata": {
        "id": "fp_NNcEJyfwK"
      },
      "outputs": [],
      "source": [
        "conv_base.trainable = True\n",
        "print(\"This is the number of trainable weights \"\n",
        "      \"before freezing the conv base:\", len(conv_base.trainable_weights))"
      ]
    },
    {
      "cell_type": "code",
      "execution_count": null,
      "metadata": {
        "id": "EuaDZXzWyfwK"
      },
      "outputs": [],
      "source": [
        "conv_base.trainable = False\n",
        "print(\"This is the number of trainable weights \"\n",
        "      \"after freezing the conv base:\", len(conv_base.trainable_weights))"
      ]
    },
    {
      "cell_type": "markdown",
      "metadata": {
        "id": "BSU3Ik55yfwK"
      },
      "source": [
        "**Adding a data augmentation stage and a classifier to the convolutional base**"
      ]
    },
    {
      "cell_type": "code",
      "execution_count": null,
      "metadata": {
        "id": "5Ti4wAjRyfwK"
      },
      "outputs": [],
      "source": [
        "data_augmentation = keras.Sequential(\n",
        "    [\n",
        "        layers.RandomFlip(\"horizontal\"),\n",
        "        layers.RandomRotation(0.1),\n",
        "        layers.RandomZoom(0.2),\n",
        "    ]\n",
        ")\n",
        "\n",
        "inputs = keras.Input(shape=(180, 180, 3))\n",
        "x = data_augmentation(inputs)\n",
        "x = keras.applications.vgg16.preprocess_input(x)\n",
        "x = conv_base(x)\n",
        "x = layers.Flatten()(x)\n",
        "x = layers.Dense(256)(x)\n",
        "x = layers.Dropout(0.5)(x)\n",
        "outputs = layers.Dense(1, activation=\"sigmoid\")(x)\n",
        "model = keras.Model(inputs, outputs)\n",
        "model.compile(loss=\"binary_crossentropy\",\n",
        "              optimizer=\"rmsprop\",\n",
        "              metrics=[\"accuracy\"])"
      ]
    },
    {
      "cell_type": "code",
      "execution_count": null,
      "metadata": {
        "id": "QIAJOcUxyfwK"
      },
      "outputs": [],
      "source": [
        "callbacks = [\n",
        "    keras.callbacks.ModelCheckpoint(\n",
        "        filepath=\"feature_extraction_with_data_augmentation.keras\",\n",
        "        save_best_only=True,\n",
        "        monitor=\"val_loss\")\n",
        "]\n",
        "history = model.fit(\n",
        "    train_dataset,\n",
        "    epochs=50,\n",
        "    validation_data=validation_dataset,\n",
        "    callbacks=callbacks)"
      ]
    },
    {
      "cell_type": "markdown",
      "metadata": {
        "id": "xwOESNJoyfwK"
      },
      "source": [
        "**Evaluating the model on the test set**"
      ]
    },
    {
      "cell_type": "code",
      "execution_count": null,
      "metadata": {
        "id": "yDv1l1OJyfwK"
      },
      "outputs": [],
      "source": [
        "test_model = keras.models.load_model(\n",
        "    \"feature_extraction_with_data_augmentation.keras\")\n",
        "test_loss, test_acc = test_model.evaluate(test_dataset)\n",
        "print(f\"Test accuracy: {test_acc:.3f}\")"
      ]
    },
    {
      "cell_type": "markdown",
      "metadata": {
        "id": "Cn-JRNyJyfwK"
      },
      "source": [
        "### Fine-tuning a pretrained model"
      ]
    },
    {
      "cell_type": "code",
      "execution_count": null,
      "metadata": {
        "id": "zwpP7XkzyfwK"
      },
      "outputs": [],
      "source": [
        "conv_base.summary()"
      ]
    },
    {
      "cell_type": "markdown",
      "metadata": {
        "id": "fnQUn38QyfwK"
      },
      "source": [
        "**Freezing all layers until the fourth from the last**"
      ]
    },
    {
      "cell_type": "code",
      "execution_count": null,
      "metadata": {
        "id": "Gti43iSqyfwL"
      },
      "outputs": [],
      "source": [
        "conv_base.trainable = True\n",
        "for layer in conv_base.layers[:-4]:\n",
        "    layer.trainable = False"
      ]
    },
    {
      "cell_type": "markdown",
      "metadata": {
        "id": "k5ESODt2yfwL"
      },
      "source": [
        "**Fine-tuning the model**"
      ]
    },
    {
      "cell_type": "code",
      "execution_count": null,
      "metadata": {
        "id": "NehfxZaVyfwL"
      },
      "outputs": [],
      "source": [
        "model.compile(loss=\"binary_crossentropy\",\n",
        "              optimizer=keras.optimizers.RMSprop(learning_rate=1e-5),\n",
        "              metrics=[\"accuracy\"])\n",
        "\n",
        "callbacks = [\n",
        "    keras.callbacks.ModelCheckpoint(\n",
        "        filepath=\"fine_tuning.keras\",\n",
        "        save_best_only=True,\n",
        "        monitor=\"val_loss\")\n",
        "]\n",
        "history = model.fit(\n",
        "    train_dataset,\n",
        "    epochs=30,\n",
        "    validation_data=validation_dataset,\n",
        "    callbacks=callbacks)"
      ]
    },
    {
      "cell_type": "code",
      "execution_count": null,
      "metadata": {
        "id": "pOLOG0KeyfwL"
      },
      "outputs": [],
      "source": [
        "model = keras.models.load_model(\"fine_tuning.keras\")\n",
        "test_loss, test_acc = model.evaluate(test_dataset)\n",
        "print(f\"Test accuracy: {test_acc:.3f}\")"
      ]
    },
    {
      "cell_type": "markdown",
      "metadata": {
        "id": "zTz9zqmTyfwL"
      },
      "source": [
        "## Summary"
      ]
    }
  ],
  "metadata": {
    "colab": {
      "provenance": [],
      "toc_visible": true,
      "gpuType": "T4"
    },
    "kernelspec": {
      "display_name": "Python 3",
      "name": "python3"
    },
    "language_info": {
      "codemirror_mode": {
        "name": "ipython",
        "version": 3
      },
      "file_extension": ".py",
      "mimetype": "text/x-python",
      "name": "python",
      "nbconvert_exporter": "python",
      "pygments_lexer": "ipython3",
      "version": "3.7.0"
    },
    "accelerator": "GPU"
  },
  "nbformat": 4,
  "nbformat_minor": 0
}